{
 "cells": [
  {
   "cell_type": "markdown",
   "id": "cf4efd9d-be64-4851-a7e4-15b0f390aabc",
   "metadata": {},
   "source": [
    " # Load the data\n",
    " "
   ]
  },
  {
   "cell_type": "code",
   "execution_count": 7,
   "id": "b45d5acb-8185-4c45-8b95-2c299fcc6a39",
   "metadata": {},
   "outputs": [],
   "source": [
    "with open(\"miracle_in_the_andes.txt\",\"r\",encoding = 'UTF-8') as file:\n",
    "    book = file.read()"
   ]
  },
  {
   "cell_type": "markdown",
   "id": "b90da809-9771-40d7-883b-732bdf6b05c9",
   "metadata": {},
   "source": [
    "## Most used words (non article)"
   ]
  },
  {
   "cell_type": "code",
   "execution_count": 8,
   "id": "da87740e-927c-41c5-8b92-8d80c6763fe4",
   "metadata": {},
   "outputs": [
    {
     "data": {
      "text/plain": [
       "['chapter', 'before', 'it', 'was', 'friday']"
      ]
     },
     "execution_count": 8,
     "metadata": {},
     "output_type": "execute_result"
    }
   ],
   "source": [
    "import re\n",
    "pattern = re.compile(\"[a-zA-Z]+\")\n",
    "findings = re.findall(pattern,book.lower())\n",
    "findings[:5]"
   ]
  },
  {
   "cell_type": "code",
   "execution_count": 9,
   "id": "60661949-496e-4986-9c0e-3f5cdcac95d1",
   "metadata": {},
   "outputs": [],
   "source": [
    "Dict = {}\n",
    "for word in findings:\n",
    "    if word in Dict.keys():\n",
    "        Dict[word] = Dict[word] + 1\n",
    "    else:\n",
    "        Dict[word] = 1 "
   ]
  },
  {
   "cell_type": "code",
   "execution_count": 10,
   "id": "58c7422e-6871-4fb7-bac0-e53375fb062b",
   "metadata": {},
   "outputs": [
    {
     "data": {
      "text/plain": [
       "[(5346, 'the'),\n",
       " (2795, 'and'),\n",
       " (2729, 'i'),\n",
       " (2400, 'to'),\n",
       " (2060, 'of'),\n",
       " (1566, 'a'),\n",
       " (1430, 'was'),\n",
       " (1419, 'in'),\n",
       " (1226, 'we'),\n",
       " (1169, 'my')]"
      ]
     },
     "execution_count": 10,
     "metadata": {},
     "output_type": "execute_result"
    }
   ],
   "source": [
    "Dict_list = [(value,key) for (key,value) in Dict.items()]\n",
    "Dict_list = sorted(Dict_list , reverse = True)\n",
    "Dict_list[:10]"
   ]
  },
  {
   "cell_type": "code",
   "execution_count": 11,
   "id": "79e87aa9-5c56-4fb3-b03c-2f3b0db7571d",
   "metadata": {},
   "outputs": [
    {
     "name": "stdout",
     "output_type": "stream",
     "text": [
      "Requirement already satisfied: nltk in c:\\users\\dell\\documents\\pycharm\\machine_learning\\lib\\site-packages (3.8.1)\n",
      "Requirement already satisfied: click in c:\\users\\dell\\documents\\pycharm\\machine_learning\\lib\\site-packages (from nltk) (8.1.7)\n",
      "Requirement already satisfied: joblib in c:\\users\\dell\\documents\\pycharm\\machine_learning\\lib\\site-packages (from nltk) (1.4.2)\n",
      "Requirement already satisfied: regex>=2021.8.3 in c:\\users\\dell\\documents\\pycharm\\machine_learning\\lib\\site-packages (from nltk) (2024.5.15)\n",
      "Requirement already satisfied: tqdm in c:\\users\\dell\\documents\\pycharm\\machine_learning\\lib\\site-packages (from nltk) (4.66.4)\n",
      "Requirement already satisfied: colorama in c:\\users\\dell\\documents\\pycharm\\machine_learning\\lib\\site-packages (from click->nltk) (0.4.6)\n"
     ]
    }
   ],
   "source": [
    "!pip3.11 install nltk"
   ]
  },
  {
   "cell_type": "code",
   "execution_count": 1,
   "id": "dce68267-8c3c-47d6-8d33-30b2fde00637",
   "metadata": {},
   "outputs": [
    {
     "name": "stderr",
     "output_type": "stream",
     "text": [
      "[nltk_data] Downloading package stopwords to\n",
      "[nltk_data]     C:\\Users\\Dell\\AppData\\Roaming\\nltk_data...\n",
      "[nltk_data]   Unzipping corpora\\stopwords.zip.\n"
     ]
    }
   ],
   "source": [
    "import nltk\n",
    "nltk.download(\"stopwords\")\n",
    "from nltk.corpus import stopwords\n",
    "english_stopwords = stopwords.words(\"english\")"
   ]
  },
  {
   "cell_type": "code",
   "execution_count": 16,
   "id": "99eb758a-37a6-495e-a837-c37530622a67",
   "metadata": {
    "scrolled": true
   },
   "outputs": [
    {
     "data": {
      "text/plain": [
       "['i', 'me', 'my']"
      ]
     },
     "execution_count": 16,
     "metadata": {},
     "output_type": "execute_result"
    }
   ],
   "source": [
    "english_stopwords[:3]"
   ]
  },
  {
   "cell_type": "code",
   "execution_count": 14,
   "id": "7d5fec26-4919-415d-87a8-dce2da0c4239",
   "metadata": {},
   "outputs": [],
   "source": [
    "filtered_words = []\n",
    "for count,word in Dict_list:\n",
    "    if word not in english_stopwords:\n",
    "        filtered_words.append((word,count))"
   ]
  },
  {
   "cell_type": "code",
   "execution_count": 19,
   "id": "61ea65b1-ecba-4405-acb9-15d79b21462d",
   "metadata": {},
   "outputs": [
    {
     "data": {
      "text/plain": [
       "[('would', 575), ('us', 519), ('said', 292), ('roberto', 284), ('could', 252)]"
      ]
     },
     "execution_count": 19,
     "metadata": {},
     "output_type": "execute_result"
    }
   ],
   "source": [
    "filtered_words[:5]"
   ]
  },
  {
   "cell_type": "markdown",
   "id": "b84c43db-981f-4a0f-8870-cd03d2c16d5a",
   "metadata": {},
   "source": [
    "## Sentiment Analysis: What is the most positive an the most negative chapters"
   ]
  },
  {
   "cell_type": "markdown",
   "id": "9bb8803d-e572-4a1b-92b5-51a119e09b8b",
   "metadata": {},
   "source": [
    "### An example"
   ]
  },
  {
   "cell_type": "code",
   "execution_count": 24,
   "id": "1da5f296-ce8a-452e-be24-e84efdb851c8",
   "metadata": {},
   "outputs": [],
   "source": [
    "from nltk.sentiment import SentimentIntensityAnalyzer"
   ]
  },
  {
   "cell_type": "code",
   "execution_count": 62,
   "id": "8703e326-8b53-440b-bcac-951dc8510263",
   "metadata": {},
   "outputs": [
    {
     "name": "stderr",
     "output_type": "stream",
     "text": [
      "[nltk_data] Downloading package vader_lexicon to\n",
      "[nltk_data]     C:\\Users\\Dell\\AppData\\Roaming\\nltk_data...\n",
      "[nltk_data]   Package vader_lexicon is already up-to-date!\n"
     ]
    },
    {
     "data": {
      "text/plain": [
       "True"
      ]
     },
     "execution_count": 62,
     "metadata": {},
     "output_type": "execute_result"
    }
   ],
   "source": [
    " import nltk\n",
    "nltk.download('vader_lexicon')"
   ]
  },
  {
   "cell_type": "code",
   "execution_count": 63,
   "id": "4e22f626-be3d-459a-bc21-2a70081ceed3",
   "metadata": {},
   "outputs": [],
   "source": [
    "analyzer = SentimentIntensityAnalyzer()"
   ]
  },
  {
   "cell_type": "code",
   "execution_count": 39,
   "id": "450f2133-6639-4448-9988-ec1f21055171",
   "metadata": {},
   "outputs": [],
   "source": [
    "scores = analyzer.polarity_scores(\"Hey, look how bad the trees are,I hate them, i really hate them\")"
   ]
  },
  {
   "cell_type": "code",
   "execution_count": 45,
   "id": "45cdc930-c8bf-46ba-8202-1302448e459f",
   "metadata": {},
   "outputs": [
    {
     "name": "stdout",
     "output_type": "stream",
     "text": [
      "its a negative text\n"
     ]
    }
   ],
   "source": [
    "if scores[\"pos\"] > scores[\"neg\"]:\n",
    "    print(\"this is a possitive text\")\n",
    "else:\n",
    "    print(\"its a negative text\")"
   ]
  },
  {
   "cell_type": "code",
   "execution_count": 49,
   "id": "2987e233-37ed-4ef6-9d29-97ec38d2c034",
   "metadata": {
    "jupyter": {
     "source_hidden": true
    }
   },
   "outputs": [
    {
     "data": {
      "text/plain": [
       "{'neg': 0.116, 'neu': 0.76, 'pos': 0.125, 'compound': 1.0}"
      ]
     },
     "execution_count": 49,
     "metadata": {},
     "output_type": "execute_result"
    }
   ],
   "source": [
    "analyzer.polarity_scores(book)"
   ]
  },
  {
   "cell_type": "markdown",
   "id": "8e502d4a-fe02-4f1d-9767-fa112facaaff",
   "metadata": {},
   "source": [
    "### Analyse the chapters (sentiment Analysis)"
   ]
  },
  {
   "cell_type": "code",
   "execution_count": 51,
   "id": "60ded456-4fca-4f6f-9ef0-405b3e7d3f1d",
   "metadata": {},
   "outputs": [],
   "source": [
    "import re\n",
    "pattern = re.compile(\"Chapter [0-9]+\")\n",
    "chapters = re.split(pattern,book)\n"
   ]
  },
  {
   "cell_type": "code",
   "execution_count": 53,
   "id": "fdba5835-84ed-48f1-8ee8-f6f7e7ff5378",
   "metadata": {},
   "outputs": [],
   "source": [
    "chapters = chapters[1:]\n"
   ]
  },
  {
   "cell_type": "code",
   "execution_count": 60,
   "id": "ff86663c-d9f2-46cd-8786-b3df489e369e",
   "metadata": {},
   "outputs": [],
   "source": [
    "d = []\n",
    "for index,chapter in enumerate(chapters):\n",
    "    scores=analyzer.polarity_scores(chapter)\n",
    "    if scores[\"pos\"] > scores[\"neg\"]:\n",
    "        d.append(f'Chapter {index + 1}:positive')\n",
    "    else:\n",
    "        d.append(f' Chapter{index + 1}:negative')\n"
   ]
  },
  {
   "cell_type": "code",
   "execution_count": 61,
   "id": "5e89ab56-b9fd-4e5a-baba-10fe69ed30a4",
   "metadata": {},
   "outputs": [
    {
     "data": {
      "text/plain": [
       "['Chapter 1:positive',\n",
       " 'Chapter 2:positive',\n",
       " ' Chapter3:negative',\n",
       " ' Chapter4:negative',\n",
       " 'Chapter 5:positive',\n",
       " ' Chapter6:negative',\n",
       " ' Chapter7:negative',\n",
       " ' Chapter8:negative',\n",
       " ' Chapter9:negative',\n",
       " 'Chapter 10:positive']"
      ]
     },
     "execution_count": 61,
     "metadata": {},
     "output_type": "execute_result"
    }
   ],
   "source": [
    "d"
   ]
  }
 ],
 "metadata": {
  "kernelspec": {
   "display_name": "Python 3 (ipykernel)",
   "language": "python",
   "name": "python3"
  },
  "language_info": {
   "codemirror_mode": {
    "name": "ipython",
    "version": 3
   },
   "file_extension": ".py",
   "mimetype": "text/x-python",
   "name": "python",
   "nbconvert_exporter": "python",
   "pygments_lexer": "ipython3",
   "version": "3.11.5"
  }
 },
 "nbformat": 4,
 "nbformat_minor": 5
}
